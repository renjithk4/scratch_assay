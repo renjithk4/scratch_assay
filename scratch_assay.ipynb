{
 "cells": [
  {
   "cell_type": "code",
   "execution_count": 1,
   "id": "1bf515cb",
   "metadata": {},
   "outputs": [],
   "source": [
    "#Scratch Assay on time series images\n",
    "\n",
    "import matplotlib.pyplot as plt\n",
    "from skimage import io\n",
    "from skimage.filters.rank import entropy\n",
    "from skimage.morphology import disk\n",
    "import numpy as np\n",
    "from skimage.filters import threshold_otsu"
   ]
  },
  {
   "cell_type": "code",
   "execution_count": 2,
   "id": "82ad0d10",
   "metadata": {},
   "outputs": [],
   "source": [
    "import glob"
   ]
  },
  {
   "cell_type": "code",
   "execution_count": 3,
   "id": "07b4cddc",
   "metadata": {},
   "outputs": [],
   "source": [
    "\n",
    "time = 0\n",
    "time_list=[]\n",
    "area_list=[]\n",
    "path = \"C:/Aftershoot_learn/scratch_assay/images/*.*\""
   ]
  },
  {
   "cell_type": "code",
   "execution_count": 4,
   "id": "905ef67f",
   "metadata": {},
   "outputs": [
    {
     "name": "stdout",
     "output_type": "stream",
     "text": [
      "time= 0 hr   Scratch area= 33426 pix²\n",
      "time= 1 hr   Scratch area= 27683 pix²\n",
      "time= 2 hr   Scratch area= 24106 pix²\n",
      "time= 3 hr   Scratch area= 21123 pix²\n",
      "time= 4 hr   Scratch area= 18481 pix²\n",
      "time= 5 hr   Scratch area= 16105 pix²\n",
      "time= 6 hr   Scratch area= 14417 pix²\n",
      "time= 7 hr   Scratch area= 12717 pix²\n",
      "time= 8 hr   Scratch area= 10957 pix²\n",
      "time= 9 hr   Scratch area= 9337 pix²\n"
     ]
    }
   ],
   "source": [
    "for file in glob.glob(path):\n",
    "    dict={}\n",
    "    img=io.imread(file)\n",
    "    entropy_img = entropy(img, disk(3))\n",
    "    thresh = threshold_otsu(entropy_img)\n",
    "    binary = entropy_img <= thresh\n",
    "    scratch_area = np.sum(binary == 1)\n",
    "    print(\"time=\", time, \"hr  \", \"Scratch area=\", scratch_area, \"pix\\N{SUPERSCRIPT TWO}\")\n",
    "    time_list.append(time)\n",
    "    area_list.append(scratch_area)\n",
    "    time += 1"
   ]
  },
  {
   "cell_type": "code",
   "execution_count": 5,
   "id": "ef68abbb",
   "metadata": {},
   "outputs": [
    {
     "data": {
      "text/plain": [
       "[<matplotlib.lines.Line2D at 0x20871e06fa0>]"
      ]
     },
     "execution_count": 5,
     "metadata": {},
     "output_type": "execute_result"
    },
    {
     "data": {
      "image/png": "[encoded data removed]",
      "text/plain": [
       "<Figure size 432x288 with 1 Axes>"
      ]
     },
     "metadata": {
      "needs_background": "light"
     },
     "output_type": "display_data"
    }
   ],
   "source": [
    "#print(time_list, area_list)\n",
    "plt.plot(time_list, area_list, 'bo')  #Print blue dots scatter plot\n"
   ]
  },
  {
   "cell_type": "code",
   "execution_count": 6,
   "id": "b2d4b8d6",
   "metadata": {},
   "outputs": [],
   "source": [
    "#Print slope, intercept\n",
    "from scipy.stats import linregress\n",
    "#print(linregress(time_list, area_list))"
   ]
  },
  {
   "cell_type": "code",
   "execution_count": 7,
   "id": "f2c1b3ac",
   "metadata": {},
   "outputs": [
    {
     "name": "stdout",
     "output_type": "stream",
     "text": [
      "y =  -2504.9818181818187 x  +  30107.618181818187\n",
      "R² =  0.9568904267126049\n"
     ]
    }
   ],
   "source": [
    "slope, intercept, r_value, p_value, std_err = linregress(time_list, area_list)\n",
    "print(\"y = \",slope, \"x\", \" + \", intercept  )\n",
    "print(\"R\\N{SUPERSCRIPT TWO} = \", r_value**2)\n",
    "#print(\"r-squared: %f\" % r_value**2)"
   ]
  },
  {
   "cell_type": "code",
   "execution_count": null,
   "id": "3a2dd37f",
   "metadata": {},
   "outputs": [],
   "source": []
  }
 ],
 "metadata": {
  "kernelspec": {
   "display_name": "Python 3 (ipykernel)",
   "language": "python",
   "name": "python3"
  },
  "language_info": {
   "codemirror_mode": {
    "name": "ipython",
    "version": 3
   },
   "file_extension": ".py",
   "mimetype": "text/x-python",
   "name": "python",
   "nbconvert_exporter": "python",
   "pygments_lexer": "ipython3",
   "version": "3.8.5"
  }
 },
 "nbformat": 4,
 "nbformat_minor": 5
}
